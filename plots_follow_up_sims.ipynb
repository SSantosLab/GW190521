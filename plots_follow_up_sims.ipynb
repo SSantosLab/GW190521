{
 "cells": [
  {
   "cell_type": "code",
   "execution_count": 1,
   "metadata": {},
   "outputs": [],
   "source": [
    "from scipy.integrate import quad\n",
    "\n",
    "import matplotlib.pyplot as plt\n",
    "import scipy.stats\n",
    "import numpy as np\n",
    "import statistics\n",
    "\n",
    "\n",
    "# These are the \"Tableau 20\" colors as RGB.    \n",
    "tableau20 = [(31, 119, 180), (174, 199, 232), (255, 127, 14), (255, 187, 120),    \n",
    "             (44, 160, 44), (152, 223, 138), (214, 39, 40), (255, 152, 150),    \n",
    "             (148, 103, 189), (197, 176, 213), (140, 86, 75), (196, 156, 148),    \n",
    "             (227, 119, 194), (247, 182, 210), (127, 127, 127), (199, 199, 199),    \n",
    "             (188, 189, 34), (219, 219, 141), (23, 190, 207), (158, 218, 229)]\n",
    "\n",
    "# Tableau Color Blind 10\n",
    "tableau20blind = [(0, 107, 164), (255, 128, 14), (171, 171, 171), (89, 89, 89),\n",
    "                  (95, 158, 209), (200, 82, 0), (137, 137, 137), (163, 200, 236),\n",
    "                  (255, 188, 121), (207, 207, 207)]\n",
    "\n",
    "# Rescale to values between 0 and 1\n",
    "for i in range(len(tableau20)):\n",
    "    r, g, b = tableau20[i]\n",
    "    tableau20[i] = (r / 255., g / 255., b / 255.)\n",
    "for i in range(len(tableau20blind)):\n",
    "    r, g, b = tableau20blind[i]\n",
    "    tableau20blind[i] = (r / 255., g / 255., b / 255.)\n",
    "    \n",
    "def plt_style():\n",
    "    plt.rcParams.update({\n",
    "    'lines.linewidth':1.0,\n",
    "    'lines.linestyle':'-',\n",
    "    'lines.color':'black',\n",
    "    'font.family':'serif',\n",
    "    'font.weight':'normal',\n",
    "    'font.size':16.0,\n",
    "    'text.color':'black',\n",
    "    'text.usetex':True,\n",
    "    'axes.edgecolor':'black',\n",
    "    'axes.linewidth':1.0,\n",
    "    'axes.grid':False,\n",
    "    'axes.titlesize':'large',\n",
    "    'axes.labelsize':'large',\n",
    "    'axes.labelweight':'normal',\n",
    "    'axes.labelcolor':'black',\n",
    "    'axes.formatter.limits':[-4,4],\n",
    "    'xtick.major.size':7,\n",
    "    'xtick.minor.size':4,\n",
    "    'xtick.major.pad':8,\n",
    "    'xtick.minor.pad':8,\n",
    "    'xtick.labelsize':'large',\n",
    "    'xtick.minor.width':1.0,\n",
    "    'xtick.major.width':1.0,\n",
    "    'ytick.major.size':7,\n",
    "    'ytick.minor.size':4,\n",
    "    'ytick.major.pad':8,\n",
    "    'ytick.minor.pad':8,\n",
    "    'ytick.labelsize':'large',\n",
    "    'ytick.minor.width':1.0,\n",
    "    'ytick.major.width':1.0,\n",
    "    'legend.numpoints':1,\n",
    "    'legend.fontsize':'large',\n",
    "    'legend.shadow':False,\n",
    "    'legend.frameon':False})\n",
    "\n"
   ]
  },
  {
   "cell_type": "code",
   "execution_count": 3,
   "metadata": {},
   "outputs": [
    {
     "data": {
      "text/plain": [
       "<matplotlib.legend.Legend at 0x7faf657cc4f0>"
      ]
     },
     "execution_count": 3,
     "metadata": {},
     "output_type": "execute_result"
    },
    {
     "data": {
      "image/png": "[encoded data removed]",
      "text/plain": [
       "<Figure size 432x288 with 1 Axes>"
      ]
     },
     "metadata": {
      "needs_background": "light"
     },
     "output_type": "display_data"
    }
   ],
   "source": [
    "#Look at some TS distributions\n",
    "\n",
    "Nfollowups=5\n",
    "\n",
    "ts_0,ts=[],[]\n",
    "\n",
    "for k in range(1000):\n",
    "    lamb='0'\n",
    "    file='out/TS_'+lamb+'_'+str(k)+'.dat'\n",
    "    lnlikes=np.genfromtxt(file)\n",
    "    ts_0.append(lnlikes[:Nfollowups].sum())\n",
    "    \n",
    "    lamb='1.0'\n",
    "    file='out/TS_'+lamb+'_'+str(k)+'.dat'\n",
    "    lnlikes=np.genfromtxt(file)\n",
    "    ts.append(lnlikes[:Nfollowups].sum())\n",
    "\n",
    "plt.hist(ts_0,bins=40,alpha=0.7,label='$\\lambda=0$')\n",
    "plt.hist(ts,bins=40,alpha=0.7,label='$\\lambda=1$')\n",
    "plt.xlabel('$TS$')\n",
    "plt.legend()"
   ]
  },
  {
   "cell_type": "code",
   "execution_count": 4,
   "metadata": {},
   "outputs": [
    {
     "data": {
      "image/png": "[encoded data removed]",
      "text/plain": [
       "<Figure size 432x288 with 1 Axes>"
      ]
     },
     "metadata": {
      "needs_background": "light"
     },
     "output_type": "display_data"
    }
   ],
   "source": [
    "#Look at significance\n",
    "\n",
    "Nfollowups=20\n",
    "nsamples=1000\n",
    "pvalue,xs=[],[]\n",
    "\n",
    "\n",
    "for N in range(1,Nfollowups):\n",
    "    ts_0,ts=[],[]\n",
    "    #print('N followups:',N)\n",
    "    for k in range(nsamples):\n",
    "        #print(str(k))\n",
    "        lamb='0'\n",
    "        file='out/TS_'+lamb+'_'+str(k)+'.dat'\n",
    "        lnlikes_0=np.genfromtxt(file)\n",
    "\n",
    "        lamb='1.0'\n",
    "        file_1='out/TS_'+lamb+'_'+str(k)+'.dat'\n",
    "        lnlikes_1=np.genfromtxt(file_1)\n",
    "        ts_0.append(lnlikes_0[:N].sum())\n",
    "        ts.append(lnlikes_1[:N].sum())\n",
    "    #print(ts_0)\n",
    "    ts_0=np.array(ts_0)\n",
    "    med=statistics.median(ts)\n",
    "    mask=(ts_0>med)\n",
    "    pv=ts_0[mask].shape[0]/float(nsamples)\n",
    "    #print(ts)\n",
    "    #print(pv,med,ts_0[mask])\n",
    "    pvalue.append(pv)\n",
    "    xs.append(N)\n",
    "    \n",
    "plt_style()\n",
    "plt.plot(xs,pvalue,label='$\\lambda=1$')\n",
    "plt.xlabel('$N$ follow-ups')\n",
    "plt.ylabel('$p-$value')\n",
    "plt.legend()\n",
    "s1=(1.-0.6827)/2.\n",
    "s2=(1.-0.9545)/2.\n",
    "s3=(1.-0.9973)/2.\n",
    "#plt.plot([0,Nfollowups],[s1,s1],'k--',alpha=0.5)\n",
    "plt.plot([0,Nfollowups],[s2,s2],'k--',alpha=0.5)\n",
    "plt.plot([0,Nfollowups],[s3,s3],'k--',alpha=0.5)\n",
    "plt.yscale('log')\n",
    "plt.tight_layout()\n",
    "plt.savefig('sims_pvalue.png',dpi=200)"
   ]
  },
  {
   "cell_type": "code",
   "execution_count": null,
   "metadata": {},
   "outputs": [],
   "source": []
  }
 ],
 "metadata": {
  "kernelspec": {
   "display_name": "mypython3",
   "language": "python",
   "name": "mypython3"
  },
  "language_info": {
   "codemirror_mode": {
    "name": "ipython",
    "version": 3
   },
   "file_extension": ".py",
   "mimetype": "text/x-python",
   "name": "python",
   "nbconvert_exporter": "python",
   "pygments_lexer": "ipython3",
   "version": "3.8.2"
  }
 },
 "nbformat": 4,
 "nbformat_minor": 4
}
